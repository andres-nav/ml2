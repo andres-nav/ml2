{
 "cells": [
  {
   "cell_type": "code",
   "execution_count": 1,
   "metadata": {
    "executionInfo": {
     "elapsed": 1658,
     "status": "ok",
     "timestamp": 1602047039933,
     "user": {
      "displayName": "EMILIO PARRADO HERNANDEZ",
      "photoUrl": "https://lh3.googleusercontent.com/a-/AOh14Ghu-OvX6osyVq8b7J4Xa7D7HiZ61sPYwKqgPxyJ=s64",
      "userId": "09506376050266996513"
     },
     "user_tz": -120
    },
    "id": "lXyR3B1-cst0"
   },
   "outputs": [
    {
     "name": "stderr",
     "output_type": "stream",
     "text": [
      "/tmp/ipykernel_437724/3464626361.py:1: DeprecationWarning: Importing display from IPython.core.display is deprecated since IPython 7.14, please import from IPython display\n",
      "  from IPython.core.display import Image, display\n"
     ]
    }
   ],
   "source": [
    "from IPython.core.display import Image, display"
   ]
  },
  {
   "cell_type": "code",
   "execution_count": 2,
   "metadata": {
    "executionInfo": {
     "elapsed": 1654,
     "status": "ok",
     "timestamp": 1602047039934,
     "user": {
      "displayName": "EMILIO PARRADO HERNANDEZ",
      "photoUrl": "https://lh3.googleusercontent.com/a-/AOh14Ghu-OvX6osyVq8b7J4Xa7D7HiZ61sPYwKqgPxyJ=s64",
      "userId": "09506376050266996513"
     },
     "user_tz": -120
    },
    "id": "McTkC40Tcst3"
   },
   "outputs": [],
   "source": [
    "%matplotlib inline\n",
    "%config InlineBackend.figure_format = 'retina'  "
   ]
  },
  {
   "cell_type": "code",
   "execution_count": 3,
   "metadata": {
    "executionInfo": {
     "elapsed": 1653,
     "status": "ok",
     "timestamp": 1602047039935,
     "user": {
      "displayName": "EMILIO PARRADO HERNANDEZ",
      "photoUrl": "https://lh3.googleusercontent.com/a-/AOh14Ghu-OvX6osyVq8b7J4Xa7D7HiZ61sPYwKqgPxyJ=s64",
      "userId": "09506376050266996513"
     },
     "user_tz": -120
    },
    "id": "lopz8Y9Ccst6"
   },
   "outputs": [],
   "source": [
    "\n",
    "import matplotlib.pyplot as plt\n",
    "import numpy as np\n",
    "import random"
   ]
  },
  {
   "cell_type": "markdown",
   "metadata": {
    "id": "-8pLlMwKcst8"
   },
   "source": [
    "## Degree in Data Science and Engineering, group 96\n",
    "## Machine Learning 2\n",
    "### Fall 2023\n",
    "\n",
    "&nbsp;\n",
    "&nbsp;\n",
    "&nbsp;\n",
    "# Lab 3. Unsupervised Learning with Kernel Methods\n",
    "\n",
    "&nbsp;\n",
    "&nbsp;\n",
    "&nbsp;\n",
    "\n",
    "**Emilio Parrado Hernández**\n",
    "\n",
    "Dept. of Signal Processing and Communications\n",
    "\n",
    "&nbsp;\n",
    "&nbsp;\n",
    "&nbsp;\n",
    "\n",
    "\n",
    "\n",
    "\n",
    "<img src='http://www.tsc.uc3m.es/~emipar/BBVA/INTRO/img/logo_uc3m_foot.jpg' width=400 />"
   ]
  },
  {
   "cell_type": "markdown",
   "metadata": {
    "id": "ZqqigYrw4WXW"
   },
   "source": [
    "# Optical recognition of handwritten digits dataset\n",
    "\n",
    "The [optical recognition of handwritten digits dataset](https://archive.ics.uci.edu/ml/datasets/Optical+Recognition+of+Handwritten+Digits) is another classic benchmark from the UCI repository. The dataset contains $8\\times 8$ matrices obtained processing bitmaps of handwritten digits from preprinted forms. \n",
    "\n",
    "The original bitmaps are $32\\times 32$ pixels. The observations are the result of divinding these bitmaps into nonoverlapping $4\\times 4$ and counting the number of black pixels in each block. Therefore observations are rows of integers that take values between 0 and 16. A value of $0$ means the block $4\\times 4$ block in that position was a blank block while a value of 16 indicates all the pixels of that block were inked. \n",
    "\n",
    "There are 10 classes, with class names 0 to 9, each class name refers to the corresponding digit.\n",
    "\n",
    "Each observation can be regarded as a low resolution image of each original handwritten digit. "
   ]
  },
  {
   "cell_type": "code",
   "execution_count": 4,
   "metadata": {
    "colab": {
     "base_uri": "https://localhost:8080/"
    },
    "executionInfo": {
     "elapsed": 2566,
     "status": "ok",
     "timestamp": 1602047040854,
     "user": {
      "displayName": "EMILIO PARRADO HERNANDEZ",
      "photoUrl": "https://lh3.googleusercontent.com/a-/AOh14Ghu-OvX6osyVq8b7J4Xa7D7HiZ61sPYwKqgPxyJ=s64",
      "userId": "09506376050266996513"
     },
     "user_tz": -120
    },
    "id": "aIgJdjQGcst_",
    "outputId": "c47e23bb-b85f-493d-f73d-eeca70117a33"
   },
   "outputs": [
    {
     "name": "stdout",
     "output_type": "stream",
     "text": [
      "1797 observations with 64 columns\n",
      "1797 targets\n",
      "Values of the targets:\n",
      "[0 1 2 3 4 5 6 7 8 9]\n"
     ]
    }
   ],
   "source": [
    "from sklearn.datasets import load_digits\n",
    "\n",
    "data = load_digits()\n",
    "X = data['data']\n",
    "Y = data['target']\n",
    "print(\"{0:d} observations with {1:d} columns\".format(X.shape[0], X.shape[1]))\n",
    "print(\"{0:d} targets\".format(len(Y)))\n",
    "print(\"Values of the targets:\")\n",
    "print(np.unique(Y))"
   ]
  },
  {
   "cell_type": "markdown",
   "metadata": {
    "id": "Cp9qN7hTRDnj"
   },
   "source": [
    "## Plot some examples\n",
    "\n",
    "The function `plot_ten_examples` receives ten rows with observations in argument `X` and their corresponding targets in argument `y` and plots the digits.\n"
   ]
  },
  {
   "cell_type": "code",
   "execution_count": 5,
   "metadata": {
    "executionInfo": {
     "elapsed": 708,
     "status": "ok",
     "timestamp": 1602056175281,
     "user": {
      "displayName": "EMILIO PARRADO HERNANDEZ",
      "photoUrl": "https://lh3.googleusercontent.com/a-/AOh14Ghu-OvX6osyVq8b7J4Xa7D7HiZ61sPYwKqgPxyJ=s64",
      "userId": "09506376050266996513"
     },
     "user_tz": -120
    },
    "id": "a6hNhl8lQOyg"
   },
   "outputs": [],
   "source": [
    "def plot_ten_examples(X,y, score=None):\n",
    "  nrows = 2\n",
    "  ncols = 5\n",
    "  ff,aa = plt.subplots(nrows, ncols,figsize=(12,2))\n",
    "  ii = 0\n",
    "  for rr in range(nrows):\n",
    "    for cc in range(ncols):\n",
    "      aa[rr][cc].set_axis_off()\n",
    "      aa[rr][cc].imshow(X[ii].reshape(8,8), cmap=plt.cm.gray_r, interpolation='nearest')\n",
    "      if score is None:\n",
    "        aa[rr][cc].set_title('Target: {0:d}'.format(y[ii]))\n",
    "      else:\n",
    "        aa[rr][cc].set_title('Target: {0:d}, score:{1:.3f}'.format(y[ii], score[ii]))\n",
    "      ii += 1\n",
    "  ff.tight_layout()    "
   ]
  },
  {
   "cell_type": "code",
   "execution_count": 6,
   "metadata": {
    "colab": {
     "base_uri": "https://localhost:8080/",
     "height": 153
    },
    "executionInfo": {
     "elapsed": 1197,
     "status": "ok",
     "timestamp": 1602056176394,
     "user": {
      "displayName": "EMILIO PARRADO HERNANDEZ",
      "photoUrl": "https://lh3.googleusercontent.com/a-/AOh14Ghu-OvX6osyVq8b7J4Xa7D7HiZ61sPYwKqgPxyJ=s64",
      "userId": "09506376050266996513"
     },
     "user_tz": -120
    },
    "id": "QtXYVztOdP77",
    "outputId": "affd4740-10cb-42d2-d552-1c773ad2bea4"
   },
   "outputs": [
    {
     "data": {
      "image/png": "[encoded data removed]",
      "text/plain": [
       "<Figure size 1200x200 with 10 Axes>"
      ]
     },
     "metadata": {
      "image/png": {
       "height": 191,
       "width": 968
      }
     },
     "output_type": "display_data"
    }
   ],
   "source": [
    "# plot digits in rows 25 to 34 in X\n",
    "plot_ten_examples(X[25:35,:],Y[25:35])"
   ]
  },
  {
   "cell_type": "markdown",
   "metadata": {
    "id": "HVE2z-88hJO4"
   },
   "source": [
    "## Separation in training and test set\n",
    "\n",
    "First partition the dataset moving a 50% of the observations to the training set and  and the remaining 50% to the test set. \n",
    "\n",
    "For simplicity, use the names `X_train, X_test, y_train, y_test` for the corresponding numpy arrays.\n"
   ]
  },
  {
   "cell_type": "code",
   "execution_count": 7,
   "metadata": {
    "executionInfo": {
     "elapsed": 1156,
     "status": "ok",
     "timestamp": 1602047078843,
     "user": {
      "displayName": "EMILIO PARRADO HERNANDEZ",
      "photoUrl": "https://lh3.googleusercontent.com/a-/AOh14Ghu-OvX6osyVq8b7J4Xa7D7HiZ61sPYwKqgPxyJ=s64",
      "userId": "09506376050266996513"
     },
     "user_tz": -120
    },
    "id": "awofnJLThu32"
   },
   "outputs": [],
   "source": [
    "############# #\n",
    "# YOUR CODE #\n",
    "#           #\n",
    "#############\n",
    "from sklearn.model_selection import train_test_split\n",
    "X_train, X_test, y_train, y_test = train_test_split(X,Y,\n",
    "                                    test_size=0.3,\n",
    "                                    random_state=42) #seed d "
   ]
  },
  {
   "cell_type": "markdown",
   "metadata": {
    "id": "H6S-oH-NiGb0"
   },
   "source": [
    "# 1. Definition of the novelty detection tasks\n",
    "\n",
    "In this assignment you are going to work with different degrees of supervision in three novelty detection tasks. These novelty detection tasks will be simulated using classification tasks in which we will alter the training set by removing partially or totally the instances of some digits. The test set will be always the same, therefore the novelty stands in the fact that in the test set there will be members of digits that were not present (or very poorly represented) in the training set. \n",
    "\n",
    "\n",
    "The novelty detections tasks are the following:\n",
    "\n",
    "1. The training set is formed exclusively by instances of 5. As the test set has instances of all digits, the novelty is the presence of instances of digits different from 5.\n",
    "2. The training set has no instances of digits 5,6,7,8 and 9. The novelty is the presence of examples of digits 5,6,7,8 and 9 in the test set.\n",
    "\n",
    "We have prepared two python functions that receive generic training and test set (observations are images of all the digits and targets are integers between 0 and 9) and output the training set observations and labels and the test set labels. Notice the test set observations are always the same.\n",
    "\n",
    "The functions are `just_fives` and `zero_four`. For example, for the first novelty detection task, where the training set only has instances of digit 5, one should create the corresponing sets using:\n",
    "\n",
    "`x_train_5, y_train_5, y_test_5, = just_fives(X_train, y_train, y_test, number_novel_instances=0)`\n",
    "\n",
    "- `x_train_5`: rows of `X_train` that correspond with instances of digit 5. If `number_novel_instances`> 0, there will be some rows in `x_train_5` with instances of other digits.\n",
    "\n",
    "- `y_train_5`: true binary labels of the rows of `x_train_5` for computing classification scores. If row $i$ of `x_train_5` is an instance of digit 5, then `y_train_5[i]` is 1. Otherwise `y_train_5[i]` is -1.\n",
    "\n",
    "- `y_test_5`: true binary labels of the rows of `X_test` for computing classification scores. If row $i$ of `X_test` is an instance of digit 5, then `y_test_5[i]` is 1. Otherwise `y_test_5[i]` is -1.\n",
    "\n",
    "- `number_novel_instances`: number of instances of other digits than 5 in `x_train_5` and `y_train_5`. A value of `number_novel_instances` = $k$ means that the last $k$ rows of `x_train_5` will contain instances of digits different from 5, and therefore the last $k$ elements of `y_train_5` will be -1. Notice $k$ must be smaller than the number of non-five digits in `X_train`.\n",
    "\n",
    "\n",
    "\n",
    "\n"
   ]
  },
  {
   "cell_type": "code",
   "execution_count": 8,
   "metadata": {
    "executionInfo": {
     "elapsed": 599,
     "status": "ok",
     "timestamp": 1602048820756,
     "user": {
      "displayName": "EMILIO PARRADO HERNANDEZ",
      "photoUrl": "https://lh3.googleusercontent.com/a-/AOh14Ghu-OvX6osyVq8b7J4Xa7D7HiZ61sPYwKqgPxyJ=s64",
      "userId": "09506376050266996513"
     },
     "user_tz": -120
    },
    "id": "cCRMILZ0bEeg"
   },
   "outputs": [],
   "source": [
    "def just_fives(x_train, y_train, y_test, number_novel_instances=0):\n",
    "  \n",
    "  is_5 = np.where(y_train==5)[0]\n",
    "  n5 = len(is_5)\n",
    "  xr = x_train[is_5,:].copy()\n",
    "  yr = np.ones(n5, dtype='int')\n",
    "  yt = -np.ones(len(y_test), dtype='int')\n",
    "  yt[y_test==5] = 1\n",
    "  \n",
    "  \n",
    "  if number_novel_instances > 0:\n",
    "    n_not_5 = len(y_train) - n5\n",
    "    if number_novel_instances < n_not_5:\n",
    "      my_idx_negs = random.sample(range(n_not_5), k=number_novel_instances)\n",
    "    else:\n",
    "      my_idx_negs = range(n_not_5)\n",
    "    is_not_5 = np.where(y_train != 5)[0][my_idx_negs]\n",
    "    \n",
    "    xr = np.vstack((xr, x_train[is_not_5,:].copy()))\n",
    "    yr = np.hstack((yr, -np.ones(len(is_not_5), dtype='int')))\n",
    "  \n",
    "    \n",
    "  return xr, yr, yt\n",
    "\n",
    "\n",
    "def zero_four(x_train, y_train, y_test, number_novel_instances=0):\n",
    "  is_5 = np.where(y_train < 5)[0]\n",
    "  n5 = len(is_5)\n",
    "  xr = x_train[is_5,:].copy()\n",
    "  yr = np.ones(n5, dtype='int')\n",
    "  yt = np.ones(len(y_test), dtype='int')\n",
    "  yt[y_test>=5] = -1\n",
    "  \n",
    "  \n",
    "  if number_novel_instances > 0:\n",
    "    n_not_5 = len(y_train) - n5\n",
    "    if number_novel_instances < n_not_5:\n",
    "      my_idx_negs = random.sample(range(n_not_5), k=number_novel_instances)\n",
    "    else:\n",
    "      my_idx_negs = range(n_not_5)\n",
    "    \n",
    "    is_not_5 = np.where(y_train >= 5)[0][my_idx_negs]\n",
    "    xr = np.vstack((xr, x_train[is_not_5,:].copy()))\n",
    "    yr = np.hstack((yr, -np.ones(len(is_not_5), dtype='int')))\n",
    "\n",
    "  return xr, yr, yt"
   ]
  },
  {
   "cell_type": "markdown",
   "metadata": {
    "id": "GhPp-DxFwRXh"
   },
   "source": [
    "## 1.1 Evaluation of the performance\n",
    "\n",
    "In this assignment you will use the **confusion matrix** to evaluate the performance of the methods. The confusion matrix captures all the possible outcomes of a classifier. In a multiclass classification problem with $M$ classes, the confusion matrix is a $M\\times M$ matrix $C$ where position $M_{ij}$ counts the number of instances of class $i$ in the test set that were predicted as instances of class $j$ by the classifier. Therefore large numbers in main diagonal of $C$ indicate a successful performance while the elements in off-diagonal positions account for errors.\n",
    "\n",
    "In a binary classification problem (and the novel detection can be cast as a binary classification setting where the positive class is formed by normal observations and the negative class is formed by the novel observations) each output of the classifier can be categorized in one of these groups:\n",
    "- True positive (TP): test observations whose true class is the positive one and the classifier correctly classifies\n",
    "\n",
    "- False negative (FN): test observations whose true class is the positive one but the classifier classifies as negative\n",
    "\n",
    "- True negative (TN): test observations whose true class is the negative one and the classifier correctly classifies\n",
    "\n",
    "- False positive (FP): test observations whose true class is the negative one but the classifier classifies as positive. \n",
    "\n",
    "With this notation the confusion matrix in a binary case is\n",
    "$$\n",
    "C = \\left [ \\begin{array}{cc} TN & FP \\\\ FN & TP \\end{array}\\right ]\n",
    "$$\n",
    "For normalization purposes, the rows of $C$ add up to the number of test observations in each true class while the columns of $C$ add up to the number of test observations classified to each class.\n",
    "\n",
    "The confusion matrix is implemented in sklearn in function [`confusion_matrix`](https://scikit-learn.org/stable/modules/generated/sklearn.metrics.confusion_matrix.html)."
   ]
  },
  {
   "cell_type": "markdown",
   "metadata": {
    "id": "J2gTXDVyj2Am"
   },
   "source": [
    "# 2. One-Class SVM for novelty detection.\n",
    "The first exercise of the assignment consists in to evaluate the capabilities of the sklearn implementation of One-class SVM [One-class SVM](https://scikit-learn.org/stable/modules/generated/sklearn.svm.OneClassSVM.html#sklearn.svm.OneClassSVM) as novelty detector.\n",
    "\n",
    "You are using RBF kernels and to avoid tunig the value of $\\gamma$ use a value `gamma= \"scale\"`.\n",
    "\n",
    "There is a key parameter in the implementation of OneClassSVM called `nu`. This parameter controls the regularization (similar role to $C$) in the sense that `nu` is an upper bound on the fraction of training errors and a lower bound of the fraction of support vectors. Should be in the interval $(0, 1]$. For instance `nu=0.3` means that at least 30% of the training data will become support vectors, that is, they will en up either on the margin (being inliers) or on the wrong side of the margin. Some of the support vectors on the wrong side of the margin will eventually become outliers as they will be also on the wrong side of the classification boundary (in this case the classification boudnary separates inliers from outliers). This is why `nu` can be considered an upper bound for the number of errors."
   ]
  },
  {
   "cell_type": "markdown",
   "metadata": {
    "id": "4O7_hxfYmhNn"
   },
   "source": [
    "## 2.1. Training set with only fives case.\n",
    "\n",
    "First use function `just_fives` to obtain the data corresponding to the task in which there are only instances of 5 in the training set.\n"
   ]
  },
  {
   "cell_type": "code",
   "execution_count": 9,
   "metadata": {
    "executionInfo": {
     "elapsed": 553,
     "status": "ok",
     "timestamp": 1602054369857,
     "user": {
      "displayName": "EMILIO PARRADO HERNANDEZ",
      "photoUrl": "https://lh3.googleusercontent.com/a-/AOh14Ghu-OvX6osyVq8b7J4Xa7D7HiZ61sPYwKqgPxyJ=s64",
      "userId": "09506376050266996513"
     },
     "user_tz": -120
    },
    "id": "KSIraq2qnDj-"
   },
   "outputs": [],
   "source": [
    "X_train_5, y_train_5, y_test_5 = just_fives(X_train, y_train, y_test,0.)"
   ]
  },
  {
   "cell_type": "markdown",
   "metadata": {
    "id": "V8-iGzZinT0n"
   },
   "source": [
    "### 2.1.1 Dependence with `nu`\n",
    "\n",
    "Complete the code of the following function that will help you study the performance of OneClassSVM in this novelty detection task. \n",
    "\n",
    "Consider the following range of variation of `nu`:\n",
    "$$\n",
    "\\mbox{nu } \\in \\{ 0.001, 0.002, 0.005, 0.01, 0.02, 0.05, 0.1, 0.2\\}\n",
    "$$"
   ]
  },
  {
   "cell_type": "code",
   "execution_count": 10,
   "metadata": {
    "executionInfo": {
     "elapsed": 636,
     "status": "ok",
     "timestamp": 1602054450430,
     "user": {
      "displayName": "EMILIO PARRADO HERNANDEZ",
      "photoUrl": "https://lh3.googleusercontent.com/a-/AOh14Ghu-OvX6osyVq8b7J4Xa7D7HiZ61sPYwKqgPxyJ=s64",
      "userId": "09506376050266996513"
     },
     "user_tz": -120
    },
    "id": "pwvNM6btC6K7"
   },
   "outputs": [],
   "source": [
    "from sklearn.svm import OneClassSVM\n",
    "from sklearn.metrics import confusion_matrix\n",
    "\n",
    "def simulate_oneclasssvm_nu(x_train, y_train, y_test, range_nu):\n",
    "  tn = np.empty(len(range_nu)) # true negatives for every value of nu\n",
    "  fp = np.empty(len(range_nu)) # false positives for every value of nu\n",
    "  fn = np.empty(len(range_nu)) # false negatives for every value of nu\n",
    "  tp = np.empty(len(range_nu)) # true positives for every value of nu\n",
    "\n",
    "  \"\"\"\n",
    "  YOUR CODE\n",
    "\n",
    "  Implement a loop that iterates over the values of range_nu. For each iteration\n",
    "  1. instantiate a OneClassSVM with the value of nu fixed to one that corresponds \n",
    "    to the current iteration\n",
    "  2. train the OneClassSVM with x_train and y_train\n",
    "  3. predict the outlier or inlier condition for the rows of x_test\n",
    "  4. call confusion_matrix to obtain TN, FP, FN, TP and fill the corresponding\n",
    "     position of arrays tn, fp, fn and tp\n",
    "  \"\"\"\n",
    "  for i in range(len(range_nu)):\n",
    "    svm = OneClassSVM(gamma=\"scale\", nu = float(range_nu[i])).fit(x_train, y_train)\n",
    "    y_predicted = svm.predict(X_test)\n",
    "    cm = confusion_matrix(y_test, y_predicted)\n",
    "    tn[i] = cm[0][0]\n",
    "    fp[i] = cm[0][1]\n",
    "    fn[i] = cm[1][0]\n",
    "    tp[i] = cm[1][0]\n",
    "\n",
    "\n",
    "  return tn, fp, fn, tp"
   ]
  },
  {
   "cell_type": "markdown",
   "metadata": {
    "id": "fl3Lg5ak1DpA"
   },
   "source": [
    "#### Plot the dependence of the performance with nu\n",
    "\n",
    "Call `simulate_oneclasssvm_nu` with the outcome of `just_fives` and plot the evolution of true negatives, false positives, false negatives and true positives in the novelty detection as `nu` varies. \n",
    "\n",
    "Discuss:\n",
    "- What is the method better at? \n",
    "  - detecting 5s in the test set\n",
    "  - detecting novelties in the test set \n",
    "\n",
    "- How is the variation of the performance with `nu`? Any explanation?\n",
    "\n",
    "Hint: use logarithmic scale in the x-axis, to better accommodate the selected range for `nu` "
   ]
  },
  {
   "cell_type": "code",
   "execution_count": 11,
   "metadata": {
    "colab": {
     "base_uri": "https://localhost:8080/",
     "height": 266
    },
    "executionInfo": {
     "elapsed": 1471,
     "status": "ok",
     "timestamp": 1602054462012,
     "user": {
      "displayName": "EMILIO PARRADO HERNANDEZ",
      "photoUrl": "https://lh3.googleusercontent.com/a-/AOh14Ghu-OvX6osyVq8b7J4Xa7D7HiZ61sPYwKqgPxyJ=s64",
      "userId": "09506376050266996513"
     },
     "user_tz": -120
    },
    "id": "-2ZWGDPm1DY1",
    "outputId": "e2199a4e-c9bb-486c-8408-fadd061b1393"
   },
   "outputs": [
    {
     "data": {
      "text/plain": [
       "(array([466., 465., 465., 465., 465., 465., 471., 474.]),\n",
       " array([8., 9., 9., 9., 9., 9., 3., 0.]),\n",
       " array([ 7.,  7.,  7.,  7.,  7.,  7.,  9., 18.]),\n",
       " array([ 7.,  7.,  7.,  7.,  7.,  7.,  9., 18.]))"
      ]
     },
     "execution_count": 11,
     "metadata": {},
     "output_type": "execute_result"
    }
   ],
   "source": [
    "#############\n",
    "# YOUR CODE #\n",
    "#############\n",
    "simulate_oneclasssvm_nu(X_train_5, y_train_5, y_test_5,  [0.001, 0.002, 0.005, 0.01, 0.02, 0.05, 0.1, 0.2])"
   ]
  },
  {
   "cell_type": "markdown",
   "metadata": {
    "id": "zCTyKrjG48_e"
   },
   "source": [
    "**Your discussion**"
   ]
  },
  {
   "cell_type": "markdown",
   "metadata": {
    "id": "_5dIXU-U5xcF"
   },
   "source": [
    "### 2.1.2 Qualitative analysis\n",
    "\n",
    "Select a value of `nu` with good performance, train a OneClassSVM with the outcome of `just_fives` and obtain the score (real valued ouput, not label) for the test set observations.\n",
    "\n",
    "Use the function `plot_ten_examples` to plot the 5 observations with the highest score and the 5 observations with the lowest score within the test observations whose true class is 5."
   ]
  },
  {
   "cell_type": "code",
   "execution_count": 47,
   "metadata": {
    "colab": {
     "base_uri": "https://localhost:8080/",
     "height": 153
    },
    "executionInfo": {
     "elapsed": 1222,
     "status": "ok",
     "timestamp": 1602058516777,
     "user": {
      "displayName": "EMILIO PARRADO HERNANDEZ",
      "photoUrl": "https://lh3.googleusercontent.com/a-/AOh14Ghu-OvX6osyVq8b7J4Xa7D7HiZ61sPYwKqgPxyJ=s64",
      "userId": "09506376050266996513"
     },
     "user_tz": -120
    },
    "id": "HB1QkZbZ8QMF",
    "outputId": "0df8c602-7235-4381-81ff-f65fd0c2f8d2"
   },
   "outputs": [
    {
     "ename": "TypeError",
     "evalue": "list indices must be integers or slices, not list",
     "output_type": "error",
     "traceback": [
      "\u001b[0;31m---------------------------------------------------------------------------\u001b[0m",
      "\u001b[0;31mTypeError\u001b[0m                                 Traceback (most recent call last)",
      "Cell \u001b[0;32mIn[47], line 18\u001b[0m\n\u001b[1;32m     16\u001b[0m index_max \u001b[39m=\u001b[39m \u001b[39msorted\u001b[39m(\u001b[39mrange\u001b[39m(\u001b[39mlen\u001b[39m(scores_5)), key\u001b[39m=\u001b[39m\u001b[39mlambda\u001b[39;00m x: scores_5[x])[\u001b[39m-\u001b[39m\u001b[39m5\u001b[39m:]\n\u001b[1;32m     17\u001b[0m index_min \u001b[39m=\u001b[39m \u001b[39msorted\u001b[39m(\u001b[39mrange\u001b[39m(\u001b[39mlen\u001b[39m(scores_5)), key\u001b[39m=\u001b[39m\u001b[39mlambda\u001b[39;00m x: \u001b[39m-\u001b[39mscores_5[x])[\u001b[39m-\u001b[39m\u001b[39m5\u001b[39m:]\n\u001b[0;32m---> 18\u001b[0m \u001b[39mprint\u001b[39m(scores_5[index_max])\n\u001b[1;32m     19\u001b[0m \u001b[39mprint\u001b[39m(scores_5[index_min])\n\u001b[1;32m     21\u001b[0m plot_ten_examples(X_test[index_5[index_max]], y_test[index_5[index_max]], scores[index_5[index_max]]) \n",
      "\u001b[0;31mTypeError\u001b[0m: list indices must be integers or slices, not list"
     ]
    }
   ],
   "source": [
    "#############\n",
    "#           #\n",
    "# YOUR CODE #\n",
    "#           #\n",
    "#############\n",
    "# We will use nu = 0.001\n",
    "svm = OneClassSVM(gamma=\"scale\", nu = 0.001).fit(X_train_5, y_train_5)\n",
    "scores = svm.score_samples(X_test)\n",
    "scores_5 = []\n",
    "index_5 = []\n",
    "for i in range(len(y_test_5)):\n",
    "    if y_test_5[i] == 1:\n",
    "        index_5.append(i)\n",
    "        scores_5.append(scores[i])\n",
    "\n",
    "index_max = sorted(range(len(scores_5)), key=lambda x: scores_5[x])[-5:]\n",
    "index_min = sorted(range(len(scores_5)), key=lambda x: -scores_5[x])[-5:]\n",
    "\n",
    "for i in range(len(index_max)):\n",
    "   # does not work \n",
    "print(scores_5[index_max])\n",
    "print(scores_5[index_min])\n",
    "\n",
    "plot_ten_examples(X_test[index_5[index_max]], y_test[index_5[index_max]], scores[index_5[index_max]]) \n",
    "plot_ten_examples(X_test[index_min], y_test[index_min], scores[index_min])"
   ]
  },
  {
   "cell_type": "markdown",
   "metadata": {
    "id": "lc5V3cKC-Lau"
   },
   "source": [
    "Do the same plot with the observations in the test set whose true class is not 5"
   ]
  },
  {
   "cell_type": "code",
   "execution_count": null,
   "metadata": {
    "colab": {
     "base_uri": "https://localhost:8080/",
     "height": 153
    },
    "executionInfo": {
     "elapsed": 1063,
     "status": "ok",
     "timestamp": 1602056221407,
     "user": {
      "displayName": "EMILIO PARRADO HERNANDEZ",
      "photoUrl": "https://lh3.googleusercontent.com/a-/AOh14Ghu-OvX6osyVq8b7J4Xa7D7HiZ61sPYwKqgPxyJ=s64",
      "userId": "09506376050266996513"
     },
     "user_tz": -120
    },
    "id": "qoWBrqb9-ZPs",
    "outputId": "b71c2878-d79f-4bf7-9e75-c12668efa97d"
   },
   "outputs": [],
   "source": [
    "#############\n",
    "#           #\n",
    "# YOUR CODE #\n",
    "#           #\n",
    "#############"
   ]
  },
  {
   "cell_type": "markdown",
   "metadata": {
    "id": "CVdqoBcH_vJ8"
   },
   "source": [
    "**Comment on the aspect of these examples. Do the negative examples with the highest score look like 5s?**\n",
    "\n",
    "**How are the scores of the negative examples that achieved the highest scores compared with the scores of the positive examples that achieved the lowest scores?**"
   ]
  },
  {
   "cell_type": "markdown",
   "metadata": {
    "id": "ye3fGCyHBDTo"
   },
   "source": [
    "## 2.2. Training set without 5, 6, 7, 8, and 9.\n",
    "\n",
    "First use function `zero_four` to obtain the data corresponding to the task in which there are no instances of 5, 6, 7, 8 and 9 in the training set.\n"
   ]
  },
  {
   "cell_type": "code",
   "execution_count": null,
   "metadata": {
    "executionInfo": {
     "elapsed": 707,
     "status": "ok",
     "timestamp": 1602056676456,
     "user": {
      "displayName": "EMILIO PARRADO HERNANDEZ",
      "photoUrl": "https://lh3.googleusercontent.com/a-/AOh14Ghu-OvX6osyVq8b7J4Xa7D7HiZ61sPYwKqgPxyJ=s64",
      "userId": "09506376050266996513"
     },
     "user_tz": -120
    },
    "id": "TelT_dDql-6e"
   },
   "outputs": [],
   "source": [
    "\n",
    "\n",
    "X_train_04, y_train_04, y_test_04 = zero_four(X_train, y_train, y_test,0.)"
   ]
  },
  {
   "cell_type": "markdown",
   "metadata": {
    "id": "lhzwWXwJBSgn"
   },
   "source": [
    "### 2.2.1 Dependence with `nu`\n",
    "\n",
    "Repeat step 2.1.1 with this novelty detection task data.\n"
   ]
  },
  {
   "cell_type": "code",
   "execution_count": null,
   "metadata": {
    "colab": {
     "base_uri": "https://localhost:8080/",
     "height": 266
    },
    "executionInfo": {
     "elapsed": 1133,
     "status": "ok",
     "timestamp": 1602056734756,
     "user": {
      "displayName": "EMILIO PARRADO HERNANDEZ",
      "photoUrl": "https://lh3.googleusercontent.com/a-/AOh14Ghu-OvX6osyVq8b7J4Xa7D7HiZ61sPYwKqgPxyJ=s64",
      "userId": "09506376050266996513"
     },
     "user_tz": -120
    },
    "id": "SB4CnPLj1C2F",
    "outputId": "f1ed7d89-f7eb-4205-b14a-d9058c209d1a"
   },
   "outputs": [],
   "source": [
    "#############\n",
    "# YOUR CODE #\n",
    "#############\n"
   ]
  },
  {
   "cell_type": "markdown",
   "metadata": {
    "id": "28u9GWbfBdoA"
   },
   "source": [
    "**Discussion** Comment on the differences in performance with the other two tasks. \n",
    "\n",
    "This third task is closer to the task training with just 5s or to training without 5s?"
   ]
  },
  {
   "cell_type": "markdown",
   "metadata": {
    "id": "9tQPQBytBxR5"
   },
   "source": [
    "# 3. Introducing supervision\n",
    "In this part you will explore the advantages of incorporating supervised learning in the form of a few instances of the negative class\n",
    "\n",
    "Previously complete the code of the function `simulate_svm` that will help you with the experiments of this section. "
   ]
  },
  {
   "cell_type": "code",
   "execution_count": null,
   "metadata": {
    "executionInfo": {
     "elapsed": 555,
     "status": "ok",
     "timestamp": 1602057900204,
     "user": {
      "displayName": "EMILIO PARRADO HERNANDEZ",
      "photoUrl": "https://lh3.googleusercontent.com/a-/AOh14Ghu-OvX6osyVq8b7J4Xa7D7HiZ61sPYwKqgPxyJ=s64",
      "userId": "09506376050266996513"
     },
     "user_tz": -120
    },
    "id": "hwh3eAkAunUj"
   },
   "outputs": [],
   "source": [
    "\n",
    "\n",
    "def simulate_svm(x_train, x_test, y_train, y_test, fun, range_number_negatives):\n",
    "  # fun: function that obtains the data for each novelty detection task.\n",
    "  #      it can take the values no_fives, just_fives, zero_four. And yes, \n",
    "  #      in python functions can receive other functions as arguments\n",
    "  # range_number_negatives: list with the number of samples in the negative \n",
    "  #                         class that you want in the training set to simulate\n",
    "  #                         a novelty detection task with partial supervision\n",
    "\n",
    "  tn = np.empty(len(range_number_negatives))\n",
    "  fp = np.empty(len(range_number_negatives))\n",
    "  fn = np.empty(len(range_number_negatives))\n",
    "  tp = np.empty(len(range_number_negatives))\n",
    "  \"\"\"\n",
    "  YOUR CODE\n",
    "  1. create a SVM for classification with RBF kernel, C fixed to 1e4 and a \n",
    "     value of gamma set to 'scale'\n",
    "  2. Loop for all the values in range_number_negatives\n",
    "     2.1 call fun to obtain the data to simulate a partially supervised novelty\n",
    "         detection task with the number of observations of the negative class in\n",
    "         the trainining set corresponding to this iteration of the loop\n",
    "     2.2 train the SVM with the outcome of step 2.1\n",
    "     2.3 get the class predictions for the test set\n",
    "     2.4 call confusion_matrix with y_test and the outcome of point 2.3 and \n",
    "         fill the positions in tn, fp, fn and tp corresponding to this iteration\n",
    "         of the loop  \n",
    "  \"\"\"\n",
    "  return tn, fp, fn, tp"
   ]
  },
  {
   "cell_type": "markdown",
   "metadata": {
    "id": "SQ3huEYrEZAi"
   },
   "source": [
    "## 3.1 Supervision in the only 5s task\n",
    "\n",
    "Obtain a logarithmic range for the values of the number of instances of the negative class (non 5s) in the training set. Use 10 values between 1 and the maximum value equal to the number of non 5s in the training set.\n",
    "\n",
    "Hint: numpy logspace could serve for this purpose. And remember the elements in the range should be integers..."
   ]
  },
  {
   "cell_type": "code",
   "execution_count": null,
   "metadata": {
    "executionInfo": {
     "elapsed": 454,
     "status": "ok",
     "timestamp": 1602057827012,
     "user": {
      "displayName": "EMILIO PARRADO HERNANDEZ",
      "photoUrl": "https://lh3.googleusercontent.com/a-/AOh14Ghu-OvX6osyVq8b7J4Xa7D7HiZ61sPYwKqgPxyJ=s64",
      "userId": "09506376050266996513"
     },
     "user_tz": -120
    },
    "id": "hrURxm80jzAx"
   },
   "outputs": [],
   "source": [
    "#############\n",
    "# YOUR CODE #\n",
    "#############\n",
    "\n"
   ]
  },
  {
   "cell_type": "markdown",
   "metadata": {
    "id": "XwckOm4OFY6N"
   },
   "source": [
    "Call `simulate_svm` to obtain the variation of TN, FP, FN and TP as the supervision of the problem increases.\n",
    "\n",
    "Make a plot with the evolution of these 4 performance metrics. To compare with the unsupervised part, in this plot, show with **constant** dashed lines the values for  TN, FP, FN and TP obtained by OneClassSVM with the best value of `nu`."
   ]
  },
  {
   "cell_type": "code",
   "execution_count": null,
   "metadata": {
    "colab": {
     "base_uri": "https://localhost:8080/",
     "height": 266
    },
    "executionInfo": {
     "elapsed": 1412,
     "status": "ok",
     "timestamp": 1602058651865,
     "user": {
      "displayName": "EMILIO PARRADO HERNANDEZ",
      "photoUrl": "https://lh3.googleusercontent.com/a-/AOh14Ghu-OvX6osyVq8b7J4Xa7D7HiZ61sPYwKqgPxyJ=s64",
      "userId": "09506376050266996513"
     },
     "user_tz": -120
    },
    "id": "9m3jRam-5S0J",
    "outputId": "c94dde8d-b282-4d26-ef44-e3ccb1a6c585"
   },
   "outputs": [],
   "source": [
    "#############\n",
    "# YOUR CODE #\n",
    "#############"
   ]
  },
  {
   "cell_type": "markdown",
   "metadata": {
    "id": "5OeoSl6bJUzG"
   },
   "source": [
    "**Discussion**\n",
    "\n",
    "Discuss the evolution of the 4 performance magnitudes as the number of negative samples in the training set increases.\n",
    "\n",
    "Notice the OneClassSVM can be regarded as 0 negative samples. Is there any range of values of negative instances for which in any performance measure the OneClassSVM performs better than the SVM?"
   ]
  },
  {
   "cell_type": "markdown",
   "metadata": {
    "id": "rnAf1mZHLPRc"
   },
   "source": [
    "## 3.2 Supervision in the without 5, 6, 7, 8, and 9 task\n",
    "\n",
    "\n",
    "Repeat section 3.1 but now in the task in which the negative class are digits 5, 6, 7, 8 and 9 and the positive class is formed by digits 0, 1, 2, 3, 4.\n",
    "\n",
    "Include in you discussion the comparison between the three tasks."
   ]
  },
  {
   "cell_type": "code",
   "execution_count": null,
   "metadata": {},
   "outputs": [],
   "source": [
    "#############\n",
    "# YOUR CODE #\n",
    "#############"
   ]
  },
  {
   "cell_type": "markdown",
   "metadata": {
    "id": "qkgotW1ALbFw",
    "slideshow": {
     "slide_type": "-"
    }
   },
   "source": [
    "# 4. Conclusions\n",
    "\n",
    "- Which of the novelty detection taks is more difficult? A task is more difficult as it is harder to yield good performance\n",
    "\n",
    "- For each task, which is the amount of supervision (number of negative labelled observations in the training set) that makes SVM outperform OneClassSVM?"
   ]
  },
  {
   "cell_type": "code",
   "execution_count": null,
   "metadata": {},
   "outputs": [],
   "source": []
  }
 ],
 "metadata": {
  "celltoolbar": "Slideshow",
  "colab": {
   "collapsed_sections": [],
   "name": "lab_unsupKM.ipynb",
   "provenance": [
    {
     "file_id": "1UEg4X0eF7h9D5vuNq2mg-Htl3B1wX942",
     "timestamp": 1601891952189
    }
   ]
  },
  "kernelspec": {
   "display_name": "Python 3 (ipykernel)",
   "language": "python",
   "name": "python3"
  },
  "language_info": {
   "codemirror_mode": {
    "name": "ipython",
    "version": 3
   },
   "file_extension": ".py",
   "mimetype": "text/x-python",
   "name": "python",
   "nbconvert_exporter": "python",
   "pygments_lexer": "ipython3",
   "version": "3.11.4"
  }
 },
 "nbformat": 4,
 "nbformat_minor": 1
}
